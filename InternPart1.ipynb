{
 "cells": [
  {
   "cell_type": "code",
   "execution_count": 7,
   "metadata": {
    "scrolled": true
   },
   "outputs": [
    {
     "name": "stdout",
     "output_type": "stream",
     "text": [
      "\n",
      "The following command must be run outside of the IPython shell:\n",
      "\n",
      "    $ pip install opencv-python\n",
      "\n",
      "The Python package manager (pip) can only be used from outside of IPython.\n",
      "Please reissue the `pip` command in a separate terminal or command prompt.\n",
      "\n",
      "See the Python documentation for more information on how to install packages:\n",
      "\n",
      "    https://docs.python.org/3/installing/\n"
     ]
    }
   ],
   "source": [
    "pip install opencv-python"
   ]
  },
  {
   "cell_type": "code",
   "execution_count": 114,
   "metadata": {
    "scrolled": false
   },
   "outputs": [
    {
     "name": "stdout",
     "output_type": "stream",
     "text": [
      "Requirement already satisfied: numpy in /Users/davidding/anaconda3/lib/python3.7/site-packages (1.21.6)\r\n"
     ]
    }
   ],
   "source": [
    "!pip install numpy"
   ]
  },
  {
   "cell_type": "code",
   "execution_count": 160,
   "metadata": {},
   "outputs": [
    {
     "ename": "ModuleNotFoundError",
     "evalue": "No module named 'keras'",
     "output_type": "error",
     "traceback": [
      "\u001b[0;31m---------------------------------------------------------------------------\u001b[0m",
      "\u001b[0;31mModuleNotFoundError\u001b[0m                       Traceback (most recent call last)",
      "\u001b[0;32m<ipython-input-160-24aa1875b959>\u001b[0m in \u001b[0;36m<module>\u001b[0;34m()\u001b[0m\n\u001b[1;32m      1\u001b[0m \u001b[0;32mimport\u001b[0m \u001b[0mos\u001b[0m\u001b[0;34m\u001b[0m\u001b[0m\n\u001b[1;32m      2\u001b[0m \u001b[0;32mimport\u001b[0m \u001b[0mcv2\u001b[0m\u001b[0;34m\u001b[0m\u001b[0m\n\u001b[0;32m----> 3\u001b[0;31m \u001b[0;32mimport\u001b[0m \u001b[0mkeras\u001b[0m\u001b[0;34m\u001b[0m\u001b[0m\n\u001b[0m\u001b[1;32m      4\u001b[0m \u001b[0;32mimport\u001b[0m \u001b[0mpandas\u001b[0m \u001b[0;32mas\u001b[0m \u001b[0mpd\u001b[0m\u001b[0;34m\u001b[0m\u001b[0m\n\u001b[1;32m      5\u001b[0m \u001b[0;32mimport\u001b[0m \u001b[0mnumpy\u001b[0m \u001b[0;32mas\u001b[0m \u001b[0mnp\u001b[0m\u001b[0;34m\u001b[0m\u001b[0m\n",
      "\u001b[0;31mModuleNotFoundError\u001b[0m: No module named 'keras'"
     ]
    }
   ],
   "source": [
    "import os\n",
    "import cv2\n",
    "import keras\n",
    "import pandas as pd\n",
    "import numpy as np\n",
    "import matplotlib.pyplot as plt\n",
    "from keras.datasets import mnist\n",
    "import warnings\n",
    "from sklearn.utils import shuffle\n",
    "from sklearn.model_selection import train_test_split\n",
    "from sklearn.linear_model import LogisticRegression, LinearRegression\n",
    "from sklearn.metrics import accuracy_score, confusion_matrix, mean_squared_error\n",
    "from sklearn.model_selection import learning_curve\n",
    "warnings.filterwarnings(\"ignore\")"
   ]
  },
  {
   "cell_type": "code",
   "execution_count": 116,
   "metadata": {
    "scrolled": true
   },
   "outputs": [
    {
     "data": {
      "text/html": [
       "<div>\n",
       "<style scoped>\n",
       "    .dataframe tbody tr th:only-of-type {\n",
       "        vertical-align: middle;\n",
       "    }\n",
       "\n",
       "    .dataframe tbody tr th {\n",
       "        vertical-align: top;\n",
       "    }\n",
       "\n",
       "    .dataframe thead th {\n",
       "        text-align: right;\n",
       "    }\n",
       "</style>\n",
       "<table border=\"1\" class=\"dataframe\">\n",
       "  <thead>\n",
       "    <tr style=\"text-align: right;\">\n",
       "      <th></th>\n",
       "      <th>image</th>\n",
       "      <th>label</th>\n",
       "    </tr>\n",
       "  </thead>\n",
       "  <tbody>\n",
       "    <tr>\n",
       "      <th>0</th>\n",
       "      <td>data/trains/PNEUMONIA/BloodImage_00152_jpg.rf....</td>\n",
       "      <td>1</td>\n",
       "    </tr>\n",
       "    <tr>\n",
       "      <th>1</th>\n",
       "      <td>data/trains/PNEUMONIA/BloodImage_00249_jpg.rf....</td>\n",
       "      <td>1</td>\n",
       "    </tr>\n",
       "    <tr>\n",
       "      <th>2</th>\n",
       "      <td>data/trains/PNEUMONIA/BloodImage_00031_jpg.rf....</td>\n",
       "      <td>1</td>\n",
       "    </tr>\n",
       "    <tr>\n",
       "      <th>3</th>\n",
       "      <td>data/trains/PNEUMONIA/BloodImage_00039_jpg.rf....</td>\n",
       "      <td>1</td>\n",
       "    </tr>\n",
       "    <tr>\n",
       "      <th>4</th>\n",
       "      <td>data/trains/PNEUMONIA/BloodImage_00014_jpg.rf....</td>\n",
       "      <td>1</td>\n",
       "    </tr>\n",
       "    <tr>\n",
       "      <th>5</th>\n",
       "      <td>data/trains/PNEUMONIA/BloodImage_00030_jpg.rf....</td>\n",
       "      <td>1</td>\n",
       "    </tr>\n",
       "    <tr>\n",
       "      <th>6</th>\n",
       "      <td>data/trains/PNEUMONIA/BloodImage_00036_jpg.rf....</td>\n",
       "      <td>1</td>\n",
       "    </tr>\n",
       "    <tr>\n",
       "      <th>7</th>\n",
       "      <td>data/trains/PNEUMONIA/BloodImage_00008_jpg.rf....</td>\n",
       "      <td>1</td>\n",
       "    </tr>\n",
       "    <tr>\n",
       "      <th>8</th>\n",
       "      <td>data/trains/PNEUMONIA/BloodImage_00268_jpg.rf....</td>\n",
       "      <td>1</td>\n",
       "    </tr>\n",
       "    <tr>\n",
       "      <th>9</th>\n",
       "      <td>data/trains/PNEUMONIA/BloodImage_00031_jpg.rf....</td>\n",
       "      <td>1</td>\n",
       "    </tr>\n",
       "    <tr>\n",
       "      <th>10</th>\n",
       "      <td>data/trains/PNEUMONIA/BloodImage_00033_jpg.rf....</td>\n",
       "      <td>1</td>\n",
       "    </tr>\n",
       "    <tr>\n",
       "      <th>11</th>\n",
       "      <td>data/trains/PNEUMONIA/BloodImage_00022_jpg.rf....</td>\n",
       "      <td>1</td>\n",
       "    </tr>\n",
       "    <tr>\n",
       "      <th>12</th>\n",
       "      <td>data/trains/PNEUMONIA/BloodImage_00303_jpg.rf....</td>\n",
       "      <td>1</td>\n",
       "    </tr>\n",
       "    <tr>\n",
       "      <th>13</th>\n",
       "      <td>data/trains/PNEUMONIA/BloodImage_00029_jpg.rf....</td>\n",
       "      <td>1</td>\n",
       "    </tr>\n",
       "    <tr>\n",
       "      <th>14</th>\n",
       "      <td>data/trains/PNEUMONIA/BloodImage_00042_jpg.rf....</td>\n",
       "      <td>1</td>\n",
       "    </tr>\n",
       "    <tr>\n",
       "      <th>15</th>\n",
       "      <td>data/trains/PNEUMONIA/BloodImage_00001_jpg.rf....</td>\n",
       "      <td>1</td>\n",
       "    </tr>\n",
       "    <tr>\n",
       "      <th>16</th>\n",
       "      <td>data/trains/PNEUMONIA/BloodImage_00028_jpg.rf....</td>\n",
       "      <td>1</td>\n",
       "    </tr>\n",
       "    <tr>\n",
       "      <th>17</th>\n",
       "      <td>data/trains/PNEUMONIA/BloodImage_00016_jpg.rf....</td>\n",
       "      <td>1</td>\n",
       "    </tr>\n",
       "    <tr>\n",
       "      <th>18</th>\n",
       "      <td>data/trains/PNEUMONIA/BloodImage_00011_jpg.rf....</td>\n",
       "      <td>1</td>\n",
       "    </tr>\n",
       "    <tr>\n",
       "      <th>19</th>\n",
       "      <td>data/trains/PNEUMONIA/BloodImage_00040_jpg.rf....</td>\n",
       "      <td>1</td>\n",
       "    </tr>\n",
       "    <tr>\n",
       "      <th>20</th>\n",
       "      <td>data/trains/PNEUMONIA/BloodImage_00019_jpg.rf....</td>\n",
       "      <td>1</td>\n",
       "    </tr>\n",
       "    <tr>\n",
       "      <th>21</th>\n",
       "      <td>data/trains/PNEUMONIA/BloodImage_00047_jpg.rf....</td>\n",
       "      <td>1</td>\n",
       "    </tr>\n",
       "    <tr>\n",
       "      <th>22</th>\n",
       "      <td>data/trains/PNEUMONIA/BloodImage_00015_jpg.rf....</td>\n",
       "      <td>1</td>\n",
       "    </tr>\n",
       "    <tr>\n",
       "      <th>23</th>\n",
       "      <td>data/trains/PNEUMONIA/BloodImage_00003_jpg.rf....</td>\n",
       "      <td>1</td>\n",
       "    </tr>\n",
       "    <tr>\n",
       "      <th>24</th>\n",
       "      <td>data/trains/PNEUMONIA/BloodImage_00018_jpg.rf....</td>\n",
       "      <td>1</td>\n",
       "    </tr>\n",
       "    <tr>\n",
       "      <th>25</th>\n",
       "      <td>data/trains/PNEUMONIA/BloodImage_00018_jpg.rf....</td>\n",
       "      <td>1</td>\n",
       "    </tr>\n",
       "    <tr>\n",
       "      <th>26</th>\n",
       "      <td>data/trains/PNEUMONIA/BloodImage_00023_jpg.rf....</td>\n",
       "      <td>1</td>\n",
       "    </tr>\n",
       "    <tr>\n",
       "      <th>27</th>\n",
       "      <td>data/trains/PNEUMONIA/BloodImage_00008_jpg.rf....</td>\n",
       "      <td>1</td>\n",
       "    </tr>\n",
       "    <tr>\n",
       "      <th>28</th>\n",
       "      <td>data/trains/PNEUMONIA/BloodImage_00028_jpg.rf....</td>\n",
       "      <td>1</td>\n",
       "    </tr>\n",
       "    <tr>\n",
       "      <th>29</th>\n",
       "      <td>data/trains/PNEUMONIA/BloodImage_00011_jpg.rf....</td>\n",
       "      <td>1</td>\n",
       "    </tr>\n",
       "    <tr>\n",
       "      <th>...</th>\n",
       "      <td>...</td>\n",
       "      <td>...</td>\n",
       "    </tr>\n",
       "    <tr>\n",
       "      <th>582</th>\n",
       "      <td>data/trains/NORMAL/BloodImage_00338_jpg.rf.114...</td>\n",
       "      <td>0</td>\n",
       "    </tr>\n",
       "    <tr>\n",
       "      <th>583</th>\n",
       "      <td>data/trains/NORMAL/BloodImage_00053_jpg.rf.3c3...</td>\n",
       "      <td>0</td>\n",
       "    </tr>\n",
       "    <tr>\n",
       "      <th>584</th>\n",
       "      <td>data/trains/NORMAL/BloodImage_00365_jpg.rf.06d...</td>\n",
       "      <td>0</td>\n",
       "    </tr>\n",
       "    <tr>\n",
       "      <th>585</th>\n",
       "      <td>data/trains/NORMAL/BloodImage_00091_jpg.rf.ca0...</td>\n",
       "      <td>0</td>\n",
       "    </tr>\n",
       "    <tr>\n",
       "      <th>586</th>\n",
       "      <td>data/trains/NORMAL/BloodImage_00144_jpg.rf.633...</td>\n",
       "      <td>0</td>\n",
       "    </tr>\n",
       "    <tr>\n",
       "      <th>587</th>\n",
       "      <td>data/trains/NORMAL/BloodImage_00240_jpg.rf.7db...</td>\n",
       "      <td>0</td>\n",
       "    </tr>\n",
       "    <tr>\n",
       "      <th>588</th>\n",
       "      <td>data/trains/NORMAL/BloodImage_00158_jpg.rf.aac...</td>\n",
       "      <td>0</td>\n",
       "    </tr>\n",
       "    <tr>\n",
       "      <th>589</th>\n",
       "      <td>data/trains/NORMAL/BloodImage_00237_jpg.rf.681...</td>\n",
       "      <td>0</td>\n",
       "    </tr>\n",
       "    <tr>\n",
       "      <th>590</th>\n",
       "      <td>data/trains/NORMAL/BloodImage_00408_jpg.rf.7ac...</td>\n",
       "      <td>0</td>\n",
       "    </tr>\n",
       "    <tr>\n",
       "      <th>591</th>\n",
       "      <td>data/trains/NORMAL/BloodImage_00215_jpg.rf.da8...</td>\n",
       "      <td>0</td>\n",
       "    </tr>\n",
       "    <tr>\n",
       "      <th>592</th>\n",
       "      <td>data/trains/NORMAL/BloodImage_00132_jpg.rf.701...</td>\n",
       "      <td>0</td>\n",
       "    </tr>\n",
       "    <tr>\n",
       "      <th>593</th>\n",
       "      <td>data/trains/NORMAL/BloodImage_00257_jpg.rf.a43...</td>\n",
       "      <td>0</td>\n",
       "    </tr>\n",
       "    <tr>\n",
       "      <th>594</th>\n",
       "      <td>data/trains/NORMAL/BloodImage_00378_jpg.rf.4de...</td>\n",
       "      <td>0</td>\n",
       "    </tr>\n",
       "    <tr>\n",
       "      <th>595</th>\n",
       "      <td>data/trains/NORMAL/BloodImage_00382_jpg.rf.0ce...</td>\n",
       "      <td>0</td>\n",
       "    </tr>\n",
       "    <tr>\n",
       "      <th>596</th>\n",
       "      <td>data/trains/NORMAL/BloodImage_00172_jpg.rf.920...</td>\n",
       "      <td>0</td>\n",
       "    </tr>\n",
       "    <tr>\n",
       "      <th>597</th>\n",
       "      <td>data/trains/NORMAL/BloodImage_00196_jpg.rf.984...</td>\n",
       "      <td>0</td>\n",
       "    </tr>\n",
       "    <tr>\n",
       "      <th>598</th>\n",
       "      <td>data/trains/NORMAL/BloodImage_00370_jpg.rf.209...</td>\n",
       "      <td>0</td>\n",
       "    </tr>\n",
       "    <tr>\n",
       "      <th>599</th>\n",
       "      <td>data/trains/NORMAL/BloodImage_00326_jpg.rf.ff8...</td>\n",
       "      <td>0</td>\n",
       "    </tr>\n",
       "    <tr>\n",
       "      <th>600</th>\n",
       "      <td>data/trains/NORMAL/BloodImage_00313_jpg.rf.d5d...</td>\n",
       "      <td>0</td>\n",
       "    </tr>\n",
       "    <tr>\n",
       "      <th>601</th>\n",
       "      <td>data/trains/NORMAL/BloodImage_00220_jpg.rf.63f...</td>\n",
       "      <td>0</td>\n",
       "    </tr>\n",
       "    <tr>\n",
       "      <th>602</th>\n",
       "      <td>data/trains/NORMAL/BloodImage_00137_jpg.rf.e31...</td>\n",
       "      <td>0</td>\n",
       "    </tr>\n",
       "    <tr>\n",
       "      <th>603</th>\n",
       "      <td>data/trains/NORMAL/BloodImage_00313_jpg.rf.43f...</td>\n",
       "      <td>0</td>\n",
       "    </tr>\n",
       "    <tr>\n",
       "      <th>604</th>\n",
       "      <td>data/trains/NORMAL/BloodImage_00332_jpg.rf.7f2...</td>\n",
       "      <td>0</td>\n",
       "    </tr>\n",
       "    <tr>\n",
       "      <th>605</th>\n",
       "      <td>data/trains/NORMAL/BloodImage_00125_jpg.rf.def...</td>\n",
       "      <td>0</td>\n",
       "    </tr>\n",
       "    <tr>\n",
       "      <th>606</th>\n",
       "      <td>data/trains/NORMAL/BloodImage_00199_jpg.rf.0f8...</td>\n",
       "      <td>0</td>\n",
       "    </tr>\n",
       "    <tr>\n",
       "      <th>607</th>\n",
       "      <td>data/trains/NORMAL/BloodImage_00005_jpg.rf.c1f...</td>\n",
       "      <td>0</td>\n",
       "    </tr>\n",
       "    <tr>\n",
       "      <th>608</th>\n",
       "      <td>data/trains/NORMAL/BloodImage_00400_jpg.rf.af0...</td>\n",
       "      <td>0</td>\n",
       "    </tr>\n",
       "    <tr>\n",
       "      <th>609</th>\n",
       "      <td>data/trains/NORMAL/BloodImage_00396_jpg.rf.9bb...</td>\n",
       "      <td>0</td>\n",
       "    </tr>\n",
       "    <tr>\n",
       "      <th>610</th>\n",
       "      <td>data/trains/NORMAL/BloodImage_00170_jpg.rf.0e4...</td>\n",
       "      <td>0</td>\n",
       "    </tr>\n",
       "    <tr>\n",
       "      <th>611</th>\n",
       "      <td>data/trains/NORMAL/BloodImage_00230_jpg.rf.66f...</td>\n",
       "      <td>0</td>\n",
       "    </tr>\n",
       "  </tbody>\n",
       "</table>\n",
       "<p>750 rows × 2 columns</p>\n",
       "</div>"
      ],
      "text/plain": [
       "                                                 image  label\n",
       "0    data/trains/PNEUMONIA/BloodImage_00152_jpg.rf....      1\n",
       "1    data/trains/PNEUMONIA/BloodImage_00249_jpg.rf....      1\n",
       "2    data/trains/PNEUMONIA/BloodImage_00031_jpg.rf....      1\n",
       "3    data/trains/PNEUMONIA/BloodImage_00039_jpg.rf....      1\n",
       "4    data/trains/PNEUMONIA/BloodImage_00014_jpg.rf....      1\n",
       "5    data/trains/PNEUMONIA/BloodImage_00030_jpg.rf....      1\n",
       "6    data/trains/PNEUMONIA/BloodImage_00036_jpg.rf....      1\n",
       "7    data/trains/PNEUMONIA/BloodImage_00008_jpg.rf....      1\n",
       "8    data/trains/PNEUMONIA/BloodImage_00268_jpg.rf....      1\n",
       "9    data/trains/PNEUMONIA/BloodImage_00031_jpg.rf....      1\n",
       "10   data/trains/PNEUMONIA/BloodImage_00033_jpg.rf....      1\n",
       "11   data/trains/PNEUMONIA/BloodImage_00022_jpg.rf....      1\n",
       "12   data/trains/PNEUMONIA/BloodImage_00303_jpg.rf....      1\n",
       "13   data/trains/PNEUMONIA/BloodImage_00029_jpg.rf....      1\n",
       "14   data/trains/PNEUMONIA/BloodImage_00042_jpg.rf....      1\n",
       "15   data/trains/PNEUMONIA/BloodImage_00001_jpg.rf....      1\n",
       "16   data/trains/PNEUMONIA/BloodImage_00028_jpg.rf....      1\n",
       "17   data/trains/PNEUMONIA/BloodImage_00016_jpg.rf....      1\n",
       "18   data/trains/PNEUMONIA/BloodImage_00011_jpg.rf....      1\n",
       "19   data/trains/PNEUMONIA/BloodImage_00040_jpg.rf....      1\n",
       "20   data/trains/PNEUMONIA/BloodImage_00019_jpg.rf....      1\n",
       "21   data/trains/PNEUMONIA/BloodImage_00047_jpg.rf....      1\n",
       "22   data/trains/PNEUMONIA/BloodImage_00015_jpg.rf....      1\n",
       "23   data/trains/PNEUMONIA/BloodImage_00003_jpg.rf....      1\n",
       "24   data/trains/PNEUMONIA/BloodImage_00018_jpg.rf....      1\n",
       "25   data/trains/PNEUMONIA/BloodImage_00018_jpg.rf....      1\n",
       "26   data/trains/PNEUMONIA/BloodImage_00023_jpg.rf....      1\n",
       "27   data/trains/PNEUMONIA/BloodImage_00008_jpg.rf....      1\n",
       "28   data/trains/PNEUMONIA/BloodImage_00028_jpg.rf....      1\n",
       "29   data/trains/PNEUMONIA/BloodImage_00011_jpg.rf....      1\n",
       "..                                                 ...    ...\n",
       "582  data/trains/NORMAL/BloodImage_00338_jpg.rf.114...      0\n",
       "583  data/trains/NORMAL/BloodImage_00053_jpg.rf.3c3...      0\n",
       "584  data/trains/NORMAL/BloodImage_00365_jpg.rf.06d...      0\n",
       "585  data/trains/NORMAL/BloodImage_00091_jpg.rf.ca0...      0\n",
       "586  data/trains/NORMAL/BloodImage_00144_jpg.rf.633...      0\n",
       "587  data/trains/NORMAL/BloodImage_00240_jpg.rf.7db...      0\n",
       "588  data/trains/NORMAL/BloodImage_00158_jpg.rf.aac...      0\n",
       "589  data/trains/NORMAL/BloodImage_00237_jpg.rf.681...      0\n",
       "590  data/trains/NORMAL/BloodImage_00408_jpg.rf.7ac...      0\n",
       "591  data/trains/NORMAL/BloodImage_00215_jpg.rf.da8...      0\n",
       "592  data/trains/NORMAL/BloodImage_00132_jpg.rf.701...      0\n",
       "593  data/trains/NORMAL/BloodImage_00257_jpg.rf.a43...      0\n",
       "594  data/trains/NORMAL/BloodImage_00378_jpg.rf.4de...      0\n",
       "595  data/trains/NORMAL/BloodImage_00382_jpg.rf.0ce...      0\n",
       "596  data/trains/NORMAL/BloodImage_00172_jpg.rf.920...      0\n",
       "597  data/trains/NORMAL/BloodImage_00196_jpg.rf.984...      0\n",
       "598  data/trains/NORMAL/BloodImage_00370_jpg.rf.209...      0\n",
       "599  data/trains/NORMAL/BloodImage_00326_jpg.rf.ff8...      0\n",
       "600  data/trains/NORMAL/BloodImage_00313_jpg.rf.d5d...      0\n",
       "601  data/trains/NORMAL/BloodImage_00220_jpg.rf.63f...      0\n",
       "602  data/trains/NORMAL/BloodImage_00137_jpg.rf.e31...      0\n",
       "603  data/trains/NORMAL/BloodImage_00313_jpg.rf.43f...      0\n",
       "604  data/trains/NORMAL/BloodImage_00332_jpg.rf.7f2...      0\n",
       "605  data/trains/NORMAL/BloodImage_00125_jpg.rf.def...      0\n",
       "606  data/trains/NORMAL/BloodImage_00199_jpg.rf.0f8...      0\n",
       "607  data/trains/NORMAL/BloodImage_00005_jpg.rf.c1f...      0\n",
       "608  data/trains/NORMAL/BloodImage_00400_jpg.rf.af0...      0\n",
       "609  data/trains/NORMAL/BloodImage_00396_jpg.rf.9bb...      0\n",
       "610  data/trains/NORMAL/BloodImage_00170_jpg.rf.0e4...      0\n",
       "611  data/trains/NORMAL/BloodImage_00230_jpg.rf.66f...      0\n",
       "\n",
       "[750 rows x 2 columns]"
      ]
     },
     "execution_count": 116,
     "metadata": {},
     "output_type": "execute_result"
    }
   ],
   "source": [
    "df1=pd.DataFrame()\n",
    "df1['image']=['data/trains/PNEUMONIA/'+i for i in os.listdir('data/trains/PNEUMONIA/')]\n",
    "df1['label']=1\n",
    "df2=pd.DataFrame()\n",
    "df2['image']=['data/trains/NORMAL/'+i for i in os.listdir('data/trains/NORMAL/')]\n",
    "df2['label']=0\n",
    "dfs=pd.concat([df1,df2])\n",
    "dfs"
   ]
  },
  {
   "cell_type": "code",
   "execution_count": 117,
   "metadata": {
    "scrolled": true
   },
   "outputs": [
    {
     "data": {
      "text/html": [
       "<div>\n",
       "<style scoped>\n",
       "    .dataframe tbody tr th:only-of-type {\n",
       "        vertical-align: middle;\n",
       "    }\n",
       "\n",
       "    .dataframe tbody tr th {\n",
       "        vertical-align: top;\n",
       "    }\n",
       "\n",
       "    .dataframe thead th {\n",
       "        text-align: right;\n",
       "    }\n",
       "</style>\n",
       "<table border=\"1\" class=\"dataframe\">\n",
       "  <thead>\n",
       "    <tr style=\"text-align: right;\">\n",
       "      <th></th>\n",
       "      <th>image</th>\n",
       "      <th>label</th>\n",
       "    </tr>\n",
       "  </thead>\n",
       "  <tbody>\n",
       "    <tr>\n",
       "      <th>0</th>\n",
       "      <td>data/valids/PNEUMONIA/BloodImage_00021_jpg.rf....</td>\n",
       "      <td>1</td>\n",
       "    </tr>\n",
       "    <tr>\n",
       "      <th>1</th>\n",
       "      <td>data/valids/PNEUMONIA/BloodImage_00017_jpg.rf....</td>\n",
       "      <td>1</td>\n",
       "    </tr>\n",
       "    <tr>\n",
       "      <th>2</th>\n",
       "      <td>data/valids/PNEUMONIA/BloodImage_00134_jpg.rf....</td>\n",
       "      <td>1</td>\n",
       "    </tr>\n",
       "    <tr>\n",
       "      <th>3</th>\n",
       "      <td>data/valids/PNEUMONIA/BloodImage_00000_jpg.rf....</td>\n",
       "      <td>1</td>\n",
       "    </tr>\n",
       "    <tr>\n",
       "      <th>4</th>\n",
       "      <td>data/valids/PNEUMONIA/BloodImage_00038_jpg.rf....</td>\n",
       "      <td>1</td>\n",
       "    </tr>\n",
       "    <tr>\n",
       "      <th>5</th>\n",
       "      <td>data/valids/PNEUMONIA/BloodImage_00012_jpg.rf....</td>\n",
       "      <td>1</td>\n",
       "    </tr>\n",
       "    <tr>\n",
       "      <th>6</th>\n",
       "      <td>data/valids/PNEUMONIA/BloodImage_00044_jpg.rf....</td>\n",
       "      <td>1</td>\n",
       "    </tr>\n",
       "    <tr>\n",
       "      <th>7</th>\n",
       "      <td>data/valids/PNEUMONIA/BloodImage_00086_jpg.rf....</td>\n",
       "      <td>1</td>\n",
       "    </tr>\n",
       "    <tr>\n",
       "      <th>8</th>\n",
       "      <td>data/valids/PNEUMONIA/BloodImage_00004_jpg.rf....</td>\n",
       "      <td>1</td>\n",
       "    </tr>\n",
       "    <tr>\n",
       "      <th>9</th>\n",
       "      <td>data/valids/PNEUMONIA/BloodImage_00350_jpg.rf....</td>\n",
       "      <td>1</td>\n",
       "    </tr>\n",
       "    <tr>\n",
       "      <th>10</th>\n",
       "      <td>data/valids/PNEUMONIA/BloodImage_00026_jpg.rf....</td>\n",
       "      <td>1</td>\n",
       "    </tr>\n",
       "    <tr>\n",
       "      <th>0</th>\n",
       "      <td>data/valids/NORMAL/BloodImage_00377_jpg.rf.0c8...</td>\n",
       "      <td>0</td>\n",
       "    </tr>\n",
       "    <tr>\n",
       "      <th>1</th>\n",
       "      <td>data/valids/NORMAL/BloodImage_00228_jpg.rf.04e...</td>\n",
       "      <td>0</td>\n",
       "    </tr>\n",
       "    <tr>\n",
       "      <th>2</th>\n",
       "      <td>data/valids/NORMAL/BloodImage_00254_jpg.rf.e95...</td>\n",
       "      <td>0</td>\n",
       "    </tr>\n",
       "    <tr>\n",
       "      <th>3</th>\n",
       "      <td>data/valids/NORMAL/BloodImage_00245_jpg.rf.c4b...</td>\n",
       "      <td>0</td>\n",
       "    </tr>\n",
       "    <tr>\n",
       "      <th>4</th>\n",
       "      <td>data/valids/NORMAL/BloodImage_00104_jpg.rf.d52...</td>\n",
       "      <td>0</td>\n",
       "    </tr>\n",
       "    <tr>\n",
       "      <th>5</th>\n",
       "      <td>data/valids/NORMAL/BloodImage_00133_jpg.rf.39e...</td>\n",
       "      <td>0</td>\n",
       "    </tr>\n",
       "    <tr>\n",
       "      <th>6</th>\n",
       "      <td>data/valids/NORMAL/BloodImage_00211_jpg.rf.c7b...</td>\n",
       "      <td>0</td>\n",
       "    </tr>\n",
       "    <tr>\n",
       "      <th>7</th>\n",
       "      <td>data/valids/NORMAL/BloodImage_00141_jpg.rf.3cf...</td>\n",
       "      <td>0</td>\n",
       "    </tr>\n",
       "    <tr>\n",
       "      <th>8</th>\n",
       "      <td>data/valids/NORMAL/BloodImage_00336_jpg.rf.8d3...</td>\n",
       "      <td>0</td>\n",
       "    </tr>\n",
       "    <tr>\n",
       "      <th>9</th>\n",
       "      <td>data/valids/NORMAL/BloodImage_00161_jpg.rf.376...</td>\n",
       "      <td>0</td>\n",
       "    </tr>\n",
       "    <tr>\n",
       "      <th>10</th>\n",
       "      <td>data/valids/NORMAL/BloodImage_00298_jpg.rf.be2...</td>\n",
       "      <td>0</td>\n",
       "    </tr>\n",
       "    <tr>\n",
       "      <th>11</th>\n",
       "      <td>data/valids/NORMAL/BloodImage_00154_jpg.rf.e5b...</td>\n",
       "      <td>0</td>\n",
       "    </tr>\n",
       "    <tr>\n",
       "      <th>12</th>\n",
       "      <td>data/valids/NORMAL/BloodImage_00063_jpg.rf.8fb...</td>\n",
       "      <td>0</td>\n",
       "    </tr>\n",
       "    <tr>\n",
       "      <th>13</th>\n",
       "      <td>data/valids/NORMAL/BloodImage_00076_jpg.rf.1b0...</td>\n",
       "      <td>0</td>\n",
       "    </tr>\n",
       "    <tr>\n",
       "      <th>14</th>\n",
       "      <td>data/valids/NORMAL/BloodImage_00371_jpg.rf.d8a...</td>\n",
       "      <td>0</td>\n",
       "    </tr>\n",
       "    <tr>\n",
       "      <th>15</th>\n",
       "      <td>data/valids/NORMAL/BloodImage_00300_jpg.rf.36d...</td>\n",
       "      <td>0</td>\n",
       "    </tr>\n",
       "    <tr>\n",
       "      <th>16</th>\n",
       "      <td>data/valids/NORMAL/BloodImage_00069_jpg.rf.961...</td>\n",
       "      <td>0</td>\n",
       "    </tr>\n",
       "    <tr>\n",
       "      <th>17</th>\n",
       "      <td>data/valids/NORMAL/BloodImage_00216_jpg.rf.d2e...</td>\n",
       "      <td>0</td>\n",
       "    </tr>\n",
       "    <tr>\n",
       "      <th>18</th>\n",
       "      <td>data/valids/NORMAL/BloodImage_00337_jpg.rf.b6c...</td>\n",
       "      <td>0</td>\n",
       "    </tr>\n",
       "    <tr>\n",
       "      <th>...</th>\n",
       "      <td>...</td>\n",
       "      <td>...</td>\n",
       "    </tr>\n",
       "    <tr>\n",
       "      <th>65</th>\n",
       "      <td>data/valids/NORMAL/BloodImage_00110_jpg.rf.c6d...</td>\n",
       "      <td>0</td>\n",
       "    </tr>\n",
       "    <tr>\n",
       "      <th>66</th>\n",
       "      <td>data/valids/NORMAL/BloodImage_00402_jpg.rf.8fc...</td>\n",
       "      <td>0</td>\n",
       "    </tr>\n",
       "    <tr>\n",
       "      <th>67</th>\n",
       "      <td>data/valids/NORMAL/BloodImage_00057_jpg.rf.4b5...</td>\n",
       "      <td>0</td>\n",
       "    </tr>\n",
       "    <tr>\n",
       "      <th>68</th>\n",
       "      <td>data/valids/NORMAL/BloodImage_00297_jpg.rf.6f9...</td>\n",
       "      <td>0</td>\n",
       "    </tr>\n",
       "    <tr>\n",
       "      <th>69</th>\n",
       "      <td>data/valids/NORMAL/BloodImage_00334_jpg.rf.8b2...</td>\n",
       "      <td>0</td>\n",
       "    </tr>\n",
       "    <tr>\n",
       "      <th>70</th>\n",
       "      <td>data/valids/NORMAL/BloodImage_00289_jpg.rf.72f...</td>\n",
       "      <td>0</td>\n",
       "    </tr>\n",
       "    <tr>\n",
       "      <th>71</th>\n",
       "      <td>data/valids/NORMAL/BloodImage_00183_jpg.rf.a2d...</td>\n",
       "      <td>0</td>\n",
       "    </tr>\n",
       "    <tr>\n",
       "      <th>72</th>\n",
       "      <td>data/valids/NORMAL/BloodImage_00404_jpg.rf.d9b...</td>\n",
       "      <td>0</td>\n",
       "    </tr>\n",
       "    <tr>\n",
       "      <th>73</th>\n",
       "      <td>data/valids/NORMAL/BloodImage_00252_jpg.rf.263...</td>\n",
       "      <td>0</td>\n",
       "    </tr>\n",
       "    <tr>\n",
       "      <th>74</th>\n",
       "      <td>data/valids/NORMAL/BloodImage_00120_jpg.rf.672...</td>\n",
       "      <td>0</td>\n",
       "    </tr>\n",
       "    <tr>\n",
       "      <th>75</th>\n",
       "      <td>data/valids/NORMAL/BloodImage_00235_jpg.rf.283...</td>\n",
       "      <td>0</td>\n",
       "    </tr>\n",
       "    <tr>\n",
       "      <th>76</th>\n",
       "      <td>data/valids/NORMAL/BloodImage_00050_jpg.rf.c89...</td>\n",
       "      <td>0</td>\n",
       "    </tr>\n",
       "    <tr>\n",
       "      <th>77</th>\n",
       "      <td>data/valids/NORMAL/BloodImage_00075_jpg.rf.38c...</td>\n",
       "      <td>0</td>\n",
       "    </tr>\n",
       "    <tr>\n",
       "      <th>78</th>\n",
       "      <td>data/valids/NORMAL/BloodImage_00348_jpg.rf.322...</td>\n",
       "      <td>0</td>\n",
       "    </tr>\n",
       "    <tr>\n",
       "      <th>79</th>\n",
       "      <td>data/valids/NORMAL/BloodImage_00335_jpg.rf.a6e...</td>\n",
       "      <td>0</td>\n",
       "    </tr>\n",
       "    <tr>\n",
       "      <th>80</th>\n",
       "      <td>data/valids/NORMAL/BloodImage_00259_jpg.rf.660...</td>\n",
       "      <td>0</td>\n",
       "    </tr>\n",
       "    <tr>\n",
       "      <th>81</th>\n",
       "      <td>data/valids/NORMAL/BloodImage_00302_jpg.rf.911...</td>\n",
       "      <td>0</td>\n",
       "    </tr>\n",
       "    <tr>\n",
       "      <th>82</th>\n",
       "      <td>data/valids/NORMAL/BloodImage_00278_jpg.rf.cfe...</td>\n",
       "      <td>0</td>\n",
       "    </tr>\n",
       "    <tr>\n",
       "      <th>83</th>\n",
       "      <td>data/valids/NORMAL/BloodImage_00217_jpg.rf.707...</td>\n",
       "      <td>0</td>\n",
       "    </tr>\n",
       "    <tr>\n",
       "      <th>84</th>\n",
       "      <td>data/valids/NORMAL/BloodImage_00070_jpg.rf.a1d...</td>\n",
       "      <td>0</td>\n",
       "    </tr>\n",
       "    <tr>\n",
       "      <th>85</th>\n",
       "      <td>data/valids/NORMAL/BloodImage_00123_jpg.rf.a95...</td>\n",
       "      <td>0</td>\n",
       "    </tr>\n",
       "    <tr>\n",
       "      <th>86</th>\n",
       "      <td>data/valids/NORMAL/BloodImage_00241_jpg.rf.757...</td>\n",
       "      <td>0</td>\n",
       "    </tr>\n",
       "    <tr>\n",
       "      <th>87</th>\n",
       "      <td>data/valids/NORMAL/BloodImage_00384_jpg.rf.523...</td>\n",
       "      <td>0</td>\n",
       "    </tr>\n",
       "    <tr>\n",
       "      <th>88</th>\n",
       "      <td>data/valids/NORMAL/BloodImage_00403_jpg.rf.b57...</td>\n",
       "      <td>0</td>\n",
       "    </tr>\n",
       "    <tr>\n",
       "      <th>89</th>\n",
       "      <td>data/valids/NORMAL/BloodImage_00331_jpg.rf.fbe...</td>\n",
       "      <td>0</td>\n",
       "    </tr>\n",
       "    <tr>\n",
       "      <th>90</th>\n",
       "      <td>data/valids/NORMAL/BloodImage_00071_jpg.rf.214...</td>\n",
       "      <td>0</td>\n",
       "    </tr>\n",
       "    <tr>\n",
       "      <th>91</th>\n",
       "      <td>data/valids/NORMAL/BloodImage_00319_jpg.rf.6b0...</td>\n",
       "      <td>0</td>\n",
       "    </tr>\n",
       "    <tr>\n",
       "      <th>92</th>\n",
       "      <td>data/valids/NORMAL/BloodImage_00126_jpg.rf.dcc...</td>\n",
       "      <td>0</td>\n",
       "    </tr>\n",
       "    <tr>\n",
       "      <th>93</th>\n",
       "      <td>data/valids/NORMAL/BloodImage_00160_jpg.rf.894...</td>\n",
       "      <td>0</td>\n",
       "    </tr>\n",
       "    <tr>\n",
       "      <th>94</th>\n",
       "      <td>data/valids/NORMAL/BloodImage_00191_jpg.rf.313...</td>\n",
       "      <td>0</td>\n",
       "    </tr>\n",
       "  </tbody>\n",
       "</table>\n",
       "<p>106 rows × 2 columns</p>\n",
       "</div>"
      ],
      "text/plain": [
       "                                                image  label\n",
       "0   data/valids/PNEUMONIA/BloodImage_00021_jpg.rf....      1\n",
       "1   data/valids/PNEUMONIA/BloodImage_00017_jpg.rf....      1\n",
       "2   data/valids/PNEUMONIA/BloodImage_00134_jpg.rf....      1\n",
       "3   data/valids/PNEUMONIA/BloodImage_00000_jpg.rf....      1\n",
       "4   data/valids/PNEUMONIA/BloodImage_00038_jpg.rf....      1\n",
       "5   data/valids/PNEUMONIA/BloodImage_00012_jpg.rf....      1\n",
       "6   data/valids/PNEUMONIA/BloodImage_00044_jpg.rf....      1\n",
       "7   data/valids/PNEUMONIA/BloodImage_00086_jpg.rf....      1\n",
       "8   data/valids/PNEUMONIA/BloodImage_00004_jpg.rf....      1\n",
       "9   data/valids/PNEUMONIA/BloodImage_00350_jpg.rf....      1\n",
       "10  data/valids/PNEUMONIA/BloodImage_00026_jpg.rf....      1\n",
       "0   data/valids/NORMAL/BloodImage_00377_jpg.rf.0c8...      0\n",
       "1   data/valids/NORMAL/BloodImage_00228_jpg.rf.04e...      0\n",
       "2   data/valids/NORMAL/BloodImage_00254_jpg.rf.e95...      0\n",
       "3   data/valids/NORMAL/BloodImage_00245_jpg.rf.c4b...      0\n",
       "4   data/valids/NORMAL/BloodImage_00104_jpg.rf.d52...      0\n",
       "5   data/valids/NORMAL/BloodImage_00133_jpg.rf.39e...      0\n",
       "6   data/valids/NORMAL/BloodImage_00211_jpg.rf.c7b...      0\n",
       "7   data/valids/NORMAL/BloodImage_00141_jpg.rf.3cf...      0\n",
       "8   data/valids/NORMAL/BloodImage_00336_jpg.rf.8d3...      0\n",
       "9   data/valids/NORMAL/BloodImage_00161_jpg.rf.376...      0\n",
       "10  data/valids/NORMAL/BloodImage_00298_jpg.rf.be2...      0\n",
       "11  data/valids/NORMAL/BloodImage_00154_jpg.rf.e5b...      0\n",
       "12  data/valids/NORMAL/BloodImage_00063_jpg.rf.8fb...      0\n",
       "13  data/valids/NORMAL/BloodImage_00076_jpg.rf.1b0...      0\n",
       "14  data/valids/NORMAL/BloodImage_00371_jpg.rf.d8a...      0\n",
       "15  data/valids/NORMAL/BloodImage_00300_jpg.rf.36d...      0\n",
       "16  data/valids/NORMAL/BloodImage_00069_jpg.rf.961...      0\n",
       "17  data/valids/NORMAL/BloodImage_00216_jpg.rf.d2e...      0\n",
       "18  data/valids/NORMAL/BloodImage_00337_jpg.rf.b6c...      0\n",
       "..                                                ...    ...\n",
       "65  data/valids/NORMAL/BloodImage_00110_jpg.rf.c6d...      0\n",
       "66  data/valids/NORMAL/BloodImage_00402_jpg.rf.8fc...      0\n",
       "67  data/valids/NORMAL/BloodImage_00057_jpg.rf.4b5...      0\n",
       "68  data/valids/NORMAL/BloodImage_00297_jpg.rf.6f9...      0\n",
       "69  data/valids/NORMAL/BloodImage_00334_jpg.rf.8b2...      0\n",
       "70  data/valids/NORMAL/BloodImage_00289_jpg.rf.72f...      0\n",
       "71  data/valids/NORMAL/BloodImage_00183_jpg.rf.a2d...      0\n",
       "72  data/valids/NORMAL/BloodImage_00404_jpg.rf.d9b...      0\n",
       "73  data/valids/NORMAL/BloodImage_00252_jpg.rf.263...      0\n",
       "74  data/valids/NORMAL/BloodImage_00120_jpg.rf.672...      0\n",
       "75  data/valids/NORMAL/BloodImage_00235_jpg.rf.283...      0\n",
       "76  data/valids/NORMAL/BloodImage_00050_jpg.rf.c89...      0\n",
       "77  data/valids/NORMAL/BloodImage_00075_jpg.rf.38c...      0\n",
       "78  data/valids/NORMAL/BloodImage_00348_jpg.rf.322...      0\n",
       "79  data/valids/NORMAL/BloodImage_00335_jpg.rf.a6e...      0\n",
       "80  data/valids/NORMAL/BloodImage_00259_jpg.rf.660...      0\n",
       "81  data/valids/NORMAL/BloodImage_00302_jpg.rf.911...      0\n",
       "82  data/valids/NORMAL/BloodImage_00278_jpg.rf.cfe...      0\n",
       "83  data/valids/NORMAL/BloodImage_00217_jpg.rf.707...      0\n",
       "84  data/valids/NORMAL/BloodImage_00070_jpg.rf.a1d...      0\n",
       "85  data/valids/NORMAL/BloodImage_00123_jpg.rf.a95...      0\n",
       "86  data/valids/NORMAL/BloodImage_00241_jpg.rf.757...      0\n",
       "87  data/valids/NORMAL/BloodImage_00384_jpg.rf.523...      0\n",
       "88  data/valids/NORMAL/BloodImage_00403_jpg.rf.b57...      0\n",
       "89  data/valids/NORMAL/BloodImage_00331_jpg.rf.fbe...      0\n",
       "90  data/valids/NORMAL/BloodImage_00071_jpg.rf.214...      0\n",
       "91  data/valids/NORMAL/BloodImage_00319_jpg.rf.6b0...      0\n",
       "92  data/valids/NORMAL/BloodImage_00126_jpg.rf.dcc...      0\n",
       "93  data/valids/NORMAL/BloodImage_00160_jpg.rf.894...      0\n",
       "94  data/valids/NORMAL/BloodImage_00191_jpg.rf.313...      0\n",
       "\n",
       "[106 rows x 2 columns]"
      ]
     },
     "execution_count": 117,
     "metadata": {},
     "output_type": "execute_result"
    }
   ],
   "source": [
    "# val集dvs表示v\n",
    "dv1=pd.DataFrame()\n",
    "dv1['image']=['data/valids/PNEUMONIA/'+i for i in os.listdir('data/valids/PNEUMONIA/')]\n",
    "dv1['label']=1\n",
    "dv2=pd.DataFrame()\n",
    "dv2['image']=['data/valids/NORMAL/'+i for i in os.listdir('data/valids/NORMAL/')]\n",
    "dv2['label']=0\n",
    "dvs=pd.concat([dv1,dv2])\n",
    "dvs"
   ]
  },
  {
   "cell_type": "code",
   "execution_count": 118,
   "metadata": {},
   "outputs": [],
   "source": [
    "# 将图片大小调为一样\n",
    "def transform_image(img_list):\n",
    "    # 将图片大小调整为 224x224\n",
    "    img = cv2.resize(img_list, (224, 224))\n",
    "    # 将图片从BGR颜色空间转换为RGB颜色空间\n",
    "    img = cv2.cvtColor(img, cv2.COLOR_BGR2RGB)\n",
    "    return img"
   ]
  },
  {
   "cell_type": "code",
   "execution_count": 119,
   "metadata": {
    "scrolled": true
   },
   "outputs": [
    {
     "data": {
      "text/plain": [
       "'data/trains/PNEUMONIA/BloodImage_00152_jpg.rf.271b40035435e2820915e6452cac5b32.jpg'"
      ]
     },
     "execution_count": 119,
     "metadata": {},
     "output_type": "execute_result"
    }
   ],
   "source": [
    "str(dfs['image'].iloc[0])"
   ]
  },
  {
   "cell_type": "code",
   "execution_count": 121,
   "metadata": {
    "scrolled": false
   },
   "outputs": [],
   "source": [
    "# 生成第一个图像的img数组\n",
    "img = transform_image(cv2.imread(str(dfs['image'].iloc[0])))\n",
    "imgs = img.reshape(1, 224*224*3)\n",
    "labels = [dfs['label'].iloc[0]]\n",
    "# 读取并转换后续的图像\n",
    "for i in range(1, len(dfs)):\n",
    "    img = transform_image(cv2.imread(str(dfs['image'].iloc[i])))\n",
    "    img = img.reshape(1, 224*224*3)\n",
    "    labels.append(dfs['label'].iloc[i])\n",
    "    # 将当前图像合并到数组中\n",
    "    imgs = np.concatenate((imgs, img), axis=0)"
   ]
  },
  {
   "cell_type": "code",
   "execution_count": 71,
   "metadata": {},
   "outputs": [],
   "source": [
    "'''\n",
    "# 生成第二个图像的img_test数组\n",
    "img_test = transform_image(cv2.imread(str(des['image'].iloc[0])))\n",
    "imgs_test = img_test.reshape(1, 224*224*3)\n",
    "labels_test = [des['label'].iloc[0]]\n",
    "# 读取并转换后续的图像\n",
    "for i in range(1, len(des)):\n",
    "    img_test = transform_image(cv2.imread(str(des['image'].iloc[i])))\n",
    "    img_test = img_test.reshape(1, 224*224*3)\n",
    "    labels_test.append(des['label'].iloc[i])\n",
    "    # 将当前图像合并到数组中\n",
    "    imgs_test = np.concatenate((imgs_test, img_test), axis=0)\n",
    "'''"
   ]
  },
  {
   "cell_type": "code",
   "execution_count": 122,
   "metadata": {},
   "outputs": [],
   "source": [
    "# 生成第三个图像的imgs_val数组\n",
    "img_val = transform_image(cv2.imread(str(dvs['image'].iloc[0])))\n",
    "imgs_val = img_val.reshape(1, 224*224*3)\n",
    "labels_val = [dvs['label'].iloc[0]]\n",
    "# 读取并转换后续的图像\n",
    "for i in range(1, len(dvs)):\n",
    "    img_val = transform_image(cv2.imread(str(dvs['image'].iloc[i])))\n",
    "    img_val = img_val.reshape(1, 224*224*3)\n",
    "    labels_val.append(dvs['label'].iloc[i])\n",
    "    # 将当前图像合并到数组中\n",
    "    imgs_val = np.concatenate((imgs_val, img_val), axis=0)"
   ]
  },
  {
   "cell_type": "code",
   "execution_count": 73,
   "metadata": {},
   "outputs": [],
   "source": [
    "'''\n",
    "# 随机打乱们\n",
    "def splitDataset(x, y, x_test, y_test, x_val, y_val):\n",
    "    result = pd.DataFrame(x)\n",
    "    result['label'] = y\n",
    "    # 随机打乱数据\n",
    "    result = result.sample(frac=1).reset_index(drop=True)\n",
    "\n",
    "    result_test = pd.DataFrame(x_test)\n",
    "    result_test['label'] = y_test\n",
    "\n",
    "    # 随机打乱测试数据\n",
    "    result_test = result_test.sample(frac=1).reset_index(drop=True)\n",
    "\n",
    "    result_val = pd.DataFrame(x_val)\n",
    "    result_val['label'] = y_val\n",
    "\n",
    "    # 随机打乱验证数据\n",
    "    result_val = result_val.sample(frac=1).reset_index(drop=True)\n",
    "    \n",
    "    # 将DataFrame转换为训练集、验证集和测试集\n",
    "    training_set = result\n",
    "    cv_set = result_val\n",
    "    test_set = result_test\n",
    "    \n",
    "    return training_set, cv_set, test_set\n",
    "'''"
   ]
  },
  {
   "cell_type": "code",
   "execution_count": 74,
   "metadata": {},
   "outputs": [],
   "source": [
    "training_set,cv_set,test_set = splitDataset(imgs,labels,imgs_val,labels_val,imgs_test,labels_test)"
   ]
  },
  {
   "cell_type": "code",
   "execution_count": 123,
   "metadata": {},
   "outputs": [],
   "source": [
    "x_train = training_set.drop(\"label\",axis = 1)\n",
    "y_train = training_set['label']"
   ]
  },
  {
   "cell_type": "code",
   "execution_count": 124,
   "metadata": {},
   "outputs": [],
   "source": [
    "x_cv = cv_set.drop(\"label\",axis = 1)\n",
    "y_cv = cv_set['label']"
   ]
  },
  {
   "cell_type": "code",
   "execution_count": 125,
   "metadata": {},
   "outputs": [],
   "source": [
    "x_test = test_set.drop(\"label\",axis = 1)\n",
    "y_test = test_set['label']"
   ]
  },
  {
   "cell_type": "code",
   "execution_count": 126,
   "metadata": {},
   "outputs": [],
   "source": [
    "#模型训练函数\n",
    "from sklearn.linear_model import LogisticRegression"
   ]
  },
  {
   "cell_type": "code",
   "execution_count": 127,
   "metadata": {},
   "outputs": [],
   "source": [
    "# 模型训练函数\n",
    "def fit_LR(x, y, c=1):\n",
    "    clf = LogisticRegression(C=c)\n",
    "    clf.fit(x, y)\n",
    "    return clf"
   ]
  },
  {
   "cell_type": "code",
   "execution_count": 128,
   "metadata": {},
   "outputs": [],
   "source": [
    "model = fit_LR(x_train, y_train)"
   ]
  },
  {
   "cell_type": "code",
   "execution_count": 129,
   "metadata": {},
   "outputs": [],
   "source": [
    "# 分类误差函数\n",
    "def compute_error_lr(model, x, y):\n",
    "    acc = model.score(x, y)\n",
    "    error = 1 - acc\n",
    "    return error"
   ]
  },
  {
   "cell_type": "code",
   "execution_count": 130,
   "metadata": {},
   "outputs": [
    {
     "name": "stdout",
     "output_type": "stream",
     "text": [
      "训练集分类误差： 0.0\n"
     ]
    }
   ],
   "source": [
    "#训练集\n",
    "error1 = compute_error_lr(model,x_train,y_train)\n",
    "print('训练集分类误差：',error1)"
   ]
  },
  {
   "cell_type": "code",
   "execution_count": 131,
   "metadata": {},
   "outputs": [
    {
     "name": "stdout",
     "output_type": "stream",
     "text": [
      "验证集集分类误差： 0.0\n"
     ]
    }
   ],
   "source": [
    "'''\n",
    "#验证集\n",
    "error2 = compute_error_lr(model,x_cv,y_cv)\n",
    "print('验证集集分类误差：',error2)\n",
    "'''"
   ]
  },
  {
   "cell_type": "code",
   "execution_count": 132,
   "metadata": {},
   "outputs": [
    {
     "name": "stdout",
     "output_type": "stream",
     "text": [
      "测试集分类误差： 0.2075471698113207\n"
     ]
    }
   ],
   "source": [
    "#测试集\n",
    "error3 = compute_error_lr(model,x_test,y_test)\n",
    "print('测试集分类误差：',error3)"
   ]
  },
  {
   "cell_type": "code",
   "execution_count": 133,
   "metadata": {},
   "outputs": [],
   "source": [
    "lambda1 = np.linspace(0,8, num=21)\n",
    "Cs = [1 if l == 0 else 1/l for l in lambda1]"
   ]
  },
  {
   "cell_type": "code",
   "execution_count": 134,
   "metadata": {},
   "outputs": [],
   "source": [
    "train_scores = []\n",
    "cv_scores = []\n",
    "test_scores = []\n",
    "\n",
    "for C in list(lambda1[1:]):\n",
    "    model1 = fit_LR(x_train,y_train,c = C)\n",
    "    error1 = compute_error_lr(model1,x_train,y_train)\n",
    "    error2 = compute_error_lr(model1,x_cv,y_cv)\n",
    "    error3 = compute_error_lr(model1,x_test,y_test)\n",
    "    train_scores.append(error1)\n",
    "    cv_scores.append(error2)\n",
    "    test_scores.append(error3)"
   ]
  },
  {
   "cell_type": "code",
   "execution_count": 135,
   "metadata": {},
   "outputs": [],
   "source": [
    "train_scores = []\n",
    "cv_scores = []\n",
    "test_scores = []\n",
    "\n",
    "# 在'for'循环内部对模型进行了训练并计算误差\n",
    "for i in range(100, 3100, 100):\n",
    "    now_x = x_train[:i]\n",
    "    now_y = y_train[:i]\n",
    "    model1 = fit_LR(now_x, now_y, c=2)\n",
    "    error1 = compute_error_lr(model1, now_x, now_y)\n",
    "    error2 = compute_error_lr(model1, x_cv, y_cv)\n",
    "    error3 = compute_error_lr(model1, x_test, y_test)\n",
    "    train_scores.append(error1)\n",
    "    cv_scores.append(error2)\n",
    "    test_scores.append(error3)"
   ]
  },
  {
   "cell_type": "code",
   "execution_count": 136,
   "metadata": {},
   "outputs": [
    {
     "data": {
      "image/png": "[encoded data removed]",
      "text/plain": [
       "<Figure size 432x288 with 1 Axes>"
      ]
     },
     "metadata": {
      "needs_background": "light"
     },
     "output_type": "display_data"
    }
   ],
   "source": [
    "plt.plot(list(range(100,3100,100)),train_scores,label = 'train')\n",
    "plt.plot(list(range(100,3100,100)),cv_scores,label = 'val')\n",
    "plt.plot(list(range(100,3100,100)),test_scores,label = 'test')\n",
    "plt.legend()\n",
    "plt.ylabel('error')\n",
    "plt.show()"
   ]
  },
  {
   "cell_type": "code",
   "execution_count": 137,
   "metadata": {},
   "outputs": [],
   "source": [
    "# 训练决策树模型\n",
    "from sklearn.tree import DecisionTreeClassifier"
   ]
  },
  {
   "cell_type": "code",
   "execution_count": 138,
   "metadata": {},
   "outputs": [],
   "source": [
    "def train_decision_tree_model(X_train, Y_train):\n",
    "    DT_model = DecisionTreeClassifier(criterion='entropy')\n",
    "    DT_model.fit(X_train, Y_train)\n",
    "    return DT_model"
   ]
  },
  {
   "cell_type": "code",
   "execution_count": 139,
   "metadata": {},
   "outputs": [],
   "source": [
    "model_dt = train_decision_tree_model(x_train, y_train)"
   ]
  },
  {
   "cell_type": "code",
   "execution_count": 140,
   "metadata": {
    "scrolled": true
   },
   "outputs": [
    {
     "name": "stdout",
     "output_type": "stream",
     "text": [
      "训练集分类误差： 0.0\n"
     ]
    }
   ],
   "source": [
    "# 训练集dt\n",
    "error1_dt = compute_error_lr(model_dt, x_train, y_train)\n",
    "print('训练集分类误差：', error1_dt)"
   ]
  },
  {
   "cell_type": "code",
   "execution_count": 97,
   "metadata": {},
   "outputs": [
    {
     "name": "stdout",
     "output_type": "stream",
     "text": [
      "验证集分类误差： 0.0\n"
     ]
    }
   ],
   "source": [
    "'''\n",
    "# 验证集_dt\n",
    "error2_dt = compute_error_lr(model_dt, x_cv, y_cv)\n",
    "print('验证集分类误差：', error2_dt)\n",
    "'''"
   ]
  },
  {
   "cell_type": "code",
   "execution_count": 141,
   "metadata": {
    "scrolled": true
   },
   "outputs": [
    {
     "name": "stdout",
     "output_type": "stream",
     "text": [
      "测试集分类误差： 0.17924528301886788\n"
     ]
    }
   ],
   "source": [
    "# 测试集_dt\n",
    "error3_dt = compute_error_lr(model_dt, x_test, y_test)\n",
    "print('测试集分类误差：', error3_dt)"
   ]
  },
  {
   "cell_type": "code",
   "execution_count": 142,
   "metadata": {},
   "outputs": [],
   "source": [
    "from sklearn.model_selection import GridSearchCV, RandomizedSearchCV\n",
    "# 随机网格搜索\n",
    "from sklearn.datasets import load_digits\n",
    "from sklearn.ensemble import RandomForestClassifier\n",
    "from scipy.stats import randint as sp_randint"
   ]
  },
  {
   "cell_type": "code",
   "execution_count": 143,
   "metadata": {},
   "outputs": [],
   "source": [
    "# 决策树\n",
    "from sklearn.tree import DecisionTreeClassifier\n",
    "from scipy.stats import randint as sp_randint\n",
    "clf_dt = DecisionTreeClassifier()\n",
    "# 给定参数搜索范围：list or distribution\n",
    "# 以随机分布的形式进行搜索\n",
    "param_dist_dt = {\"max_depth\": [3, None],\n",
    "                 \"min_samples_split\": sp_randint(2, 11),\n",
    "                 \"criterion\": [\"gini\", \"entropy\"]}"
   ]
  },
  {
   "cell_type": "code",
   "execution_count": 144,
   "metadata": {},
   "outputs": [
    {
     "data": {
      "text/plain": [
       "RandomizedSearchCV(cv=5, error_score='raise',\n",
       "          estimator=DecisionTreeClassifier(class_weight=None, criterion='gini', max_depth=None,\n",
       "            max_features=None, max_leaf_nodes=None,\n",
       "            min_impurity_decrease=0.0, min_impurity_split=None,\n",
       "            min_samples_leaf=1, min_samples_split=2,\n",
       "            min_weight_fraction_leaf=0.0, presort=False, random_state=None,\n",
       "            splitter='best'),\n",
       "          fit_params=None, iid=False, n_iter=20, n_jobs=1,\n",
       "          param_distributions={'max_depth': [3, None], 'min_samples_split': <scipy.stats._distn_infrastructure.rv_frozen object at 0x7ff0bb601d68>, 'criterion': ['gini', 'entropy']},\n",
       "          pre_dispatch='2*n_jobs', random_state=None, refit=True,\n",
       "          return_train_score='warn', scoring=None, verbose=0)"
      ]
     },
     "execution_count": 144,
     "metadata": {},
     "output_type": "execute_result"
    }
   ],
   "source": [
    "n_iter_search = 20\n",
    "# 训练决策树分类器模型，并对模型进行超参数搜索\n",
    "random_search_dt = RandomizedSearchCV(clf_dt, param_distributions=param_dist_dt, n_iter=n_iter_search, cv=5, iid=False)\n",
    "random_search_dt.fit(x_train, y_train)"
   ]
  },
  {
   "cell_type": "code",
   "execution_count": 145,
   "metadata": {},
   "outputs": [
    {
     "name": "stdout",
     "output_type": "stream",
     "text": [
      "Test Score:  0.8867924528301887\n",
      "CV Score:  0.968\n"
     ]
    }
   ],
   "source": [
    "# 训练随机森林分类器模型，并分别使用测试集和交叉验证集对模型进行评估\n",
    "model_dt = RandomForestClassifier(criterion='gini', max_depth=None, min_samples_split=5)\n",
    "model_dt.fit(x_train, y_train)\n",
    "test_score = model_dt.score(x_test, y_test)\n",
    "cv_score = model_dt.score(x_cv, y_cv)\n",
    "print(\"Test Score: \", test_score)\n",
    "print(\"CV Score: \", cv_score)"
   ]
  },
  {
   "cell_type": "code",
   "execution_count": 146,
   "metadata": {},
   "outputs": [
    {
     "name": "stdout",
     "output_type": "stream",
     "text": [
      "训练集分类误差： 0.03200000000000003\n"
     ]
    }
   ],
   "source": [
    "# 训练集分类误差\n",
    "train_error_dt = compute_error_lr(model_dt, x_train, y_train)\n",
    "print('训练集分类误差：', train_error_dt)"
   ]
  },
  {
   "cell_type": "code",
   "execution_count": 147,
   "metadata": {},
   "outputs": [
    {
     "name": "stdout",
     "output_type": "stream",
     "text": [
      "验证集分类误差： 0.03200000000000003\n"
     ]
    }
   ],
   "source": [
    "'''\n",
    "# 验证集分类误差\n",
    "cv_error_dt = compute_error_lr(model_dt, x_cv, y_cv)\n",
    "print('验证集分类误差：', cv_error_dt)\n",
    "'''"
   ]
  },
  {
   "cell_type": "code",
   "execution_count": 148,
   "metadata": {},
   "outputs": [
    {
     "name": "stdout",
     "output_type": "stream",
     "text": [
      "测试集分类误差： 0.1132075471698113\n"
     ]
    }
   ],
   "source": [
    "# 测试集分类误差\n",
    "test_error_dt = compute_error_lr(model_dt, x_test, y_test)\n",
    "print('测试集分类误差：', test_error_dt)"
   ]
  },
  {
   "cell_type": "code",
   "execution_count": 150,
   "metadata": {},
   "outputs": [],
   "source": [
    "# 随机森林\n",
    "clf = RandomForestClassifier(n_estimators=20)"
   ]
  },
  {
   "cell_type": "code",
   "execution_count": 151,
   "metadata": {},
   "outputs": [
    {
     "data": {
      "text/plain": [
       "RandomizedSearchCV(cv=5, error_score='raise',\n",
       "          estimator=RandomForestClassifier(bootstrap=True, class_weight=None, criterion='gini',\n",
       "            max_depth=None, max_features='auto', max_leaf_nodes=None,\n",
       "            min_impurity_decrease=0.0, min_impurity_split=None,\n",
       "            min_samples_leaf=1, min_samples_split=2,\n",
       "            min_weight_fraction_leaf=0.0, n_estimators=20, n_jobs=1,\n",
       "            oob_score=False, random_state=None, verbose=0,\n",
       "            warm_start=False),\n",
       "          fit_params=None, iid=False, n_iter=20, n_jobs=1,\n",
       "          param_distributions={'max_depth': [3, None], 'max_features': <scipy.stats._distn_infrastructure.rv_frozen object at 0x7ff0bb67d128>, 'min_samples_split': <scipy.stats._distn_infrastructure.rv_frozen object at 0x7ff0bb67de10>, 'criterion': ['gini', 'entropy']},\n",
       "          pre_dispatch='2*n_jobs', random_state=None, refit=True,\n",
       "          return_train_score='warn', scoring=None, verbose=0)"
      ]
     },
     "execution_count": 151,
     "metadata": {},
     "output_type": "execute_result"
    }
   ],
   "source": [
    "# 给定参数搜索范围：list or distribution\n",
    "param_dist = {\"max_depth\": [3, None],                     #给定list\n",
    "              \"max_features\": sp_randint(1, 11),          #给定distribution\n",
    "              \"min_samples_split\": sp_randint(2, 11),     #给定distribution\n",
    "              \"criterion\": [\"gini\", \"entropy\"]}           #给定list\n",
    "# 使用RandomizedSearchCV选取超参数\n",
    "n_iter_search = 20\n",
    "random_search = RandomizedSearchCV(clf, param_distributions=param_dist,\n",
    "                                   n_iter=n_iter_search, cv=5, iid=False)\n",
    "random_search.fit(x_train, y_train)"
   ]
  },
  {
   "cell_type": "code",
   "execution_count": 152,
   "metadata": {},
   "outputs": [
    {
     "name": "stdout",
     "output_type": "stream",
     "text": [
      "{'criterion': 'entropy', 'max_depth': None, 'max_features': 7, 'min_samples_split': 5}\n",
      "测试集分类准确率： 0.8773584905660378\n",
      "验证集分类准确率： 0.9866666666666667\n"
     ]
    }
   ],
   "source": [
    "print(random_search.best_params_)\n",
    "model_rft = RandomForestClassifier(criterion='gini', max_features=7, min_samples_split=2)\n",
    "model_rft.fit(x_train, y_train)\n",
    "print(\"测试集分类准确率：\", model_rft.score(x_test, y_test))\n",
    "print(\"验证集分类准确率：\", model_rft.score(x_cv, y_cv))"
   ]
  },
  {
   "cell_type": "code",
   "execution_count": 153,
   "metadata": {},
   "outputs": [
    {
     "name": "stdout",
     "output_type": "stream",
     "text": [
      "训练集分类误差： 0.013333333333333308\n"
     ]
    }
   ],
   "source": [
    "# 训练集_rft\n",
    "error1_rft = compute_error_lr(model_rft, x_train, y_train)\n",
    "print('训练集分类误差：', error1_rft)"
   ]
  },
  {
   "cell_type": "code",
   "execution_count": 154,
   "metadata": {},
   "outputs": [
    {
     "name": "stdout",
     "output_type": "stream",
     "text": [
      "验证集分类误差： 0.013333333333333308\n"
     ]
    }
   ],
   "source": [
    "'''\n",
    "# 验证集_rft\n",
    "error2_rft = compute_error_lr(model_rft, x_cv, y_cv)\n",
    "print('验证集分类误差：', error2_rft)\n",
    "'''"
   ]
  },
  {
   "cell_type": "code",
   "execution_count": 155,
   "metadata": {},
   "outputs": [
    {
     "name": "stdout",
     "output_type": "stream",
     "text": [
      "测试集分类误差： 0.12264150943396224\n"
     ]
    }
   ],
   "source": [
    "# 测试集_rft\n",
    "error3_rft = compute_error_lr(model_rft, x_test, y_test)\n",
    "print('测试集分类误差：', error3_rft)"
   ]
  },
  {
   "cell_type": "code",
   "execution_count": 156,
   "metadata": {},
   "outputs": [
    {
     "ename": "NameError",
     "evalue": "name 'mnist' is not defined",
     "output_type": "error",
     "traceback": [
      "\u001b[0;31m---------------------------------------------------------------------------\u001b[0m",
      "\u001b[0;31mNameError\u001b[0m                                 Traceback (most recent call last)",
      "\u001b[0;32m<ipython-input-156-7de1f98e928b>\u001b[0m in \u001b[0;36m<module>\u001b[0;34m()\u001b[0m\n\u001b[1;32m      1\u001b[0m \u001b[0;31m# 加载MNIST数据集\u001b[0m\u001b[0;34m\u001b[0m\u001b[0;34m\u001b[0m\u001b[0m\n\u001b[0;32m----> 2\u001b[0;31m \u001b[0;34m(\u001b[0m\u001b[0mx_train\u001b[0m\u001b[0;34m,\u001b[0m \u001b[0my_train\u001b[0m\u001b[0;34m)\u001b[0m\u001b[0;34m,\u001b[0m \u001b[0;34m(\u001b[0m\u001b[0mx_test\u001b[0m\u001b[0;34m,\u001b[0m \u001b[0my_test\u001b[0m\u001b[0;34m)\u001b[0m \u001b[0;34m=\u001b[0m \u001b[0mmnist\u001b[0m\u001b[0;34m.\u001b[0m\u001b[0mload_data\u001b[0m\u001b[0;34m(\u001b[0m\u001b[0;34m)\u001b[0m\u001b[0;34m\u001b[0m\u001b[0m\n\u001b[0m",
      "\u001b[0;31mNameError\u001b[0m: name 'mnist' is not defined"
     ]
    }
   ],
   "source": [
    "# 加载MNIST数据集\n",
    "(x_train, y_train), (x_test, y_test) = mnist.load_data()"
   ]
  },
  {
   "cell_type": "code",
   "execution_count": 161,
   "metadata": {},
   "outputs": [
    {
     "ename": "AttributeError",
     "evalue": "'LogisticRegression' object has no attribute 'evaluate'",
     "output_type": "error",
     "traceback": [
      "\u001b[0;31m---------------------------------------------------------------------------\u001b[0m",
      "\u001b[0;31mAttributeError\u001b[0m                            Traceback (most recent call last)",
      "\u001b[0;32m<ipython-input-161-b0d20c6f1b80>\u001b[0m in \u001b[0;36m<module>\u001b[0;34m()\u001b[0m\n\u001b[0;32m----> 1\u001b[0;31m \u001b[0mscore\u001b[0m\u001b[0;34m=\u001b[0m\u001b[0mmodel\u001b[0m\u001b[0;34m.\u001b[0m\u001b[0mevaluate\u001b[0m\u001b[0;34m(\u001b[0m\u001b[0mx_test\u001b[0m\u001b[0;34m,\u001b[0m\u001b[0my_test\u001b[0m\u001b[0;34m,\u001b[0m\u001b[0mverbose\u001b[0m\u001b[0;34m=\u001b[0m\u001b[0;36m0\u001b[0m\u001b[0;34m)\u001b[0m\u001b[0;34m\u001b[0m\u001b[0m\n\u001b[0m\u001b[1;32m      2\u001b[0m \u001b[0mprint\u001b[0m\u001b[0;34m(\u001b[0m\u001b[0;34m'Test loss:'\u001b[0m\u001b[0;34m,\u001b[0m \u001b[0mscore\u001b[0m\u001b[0;34m[\u001b[0m\u001b[0;36m0\u001b[0m\u001b[0;34m]\u001b[0m\u001b[0;34m)\u001b[0m\u001b[0;34m\u001b[0m\u001b[0m\n\u001b[1;32m      3\u001b[0m \u001b[0mprint\u001b[0m\u001b[0;34m(\u001b[0m\u001b[0;34m'Test accuracy:'\u001b[0m\u001b[0;34m,\u001b[0m \u001b[0mscore\u001b[0m\u001b[0;34m[\u001b[0m\u001b[0;36m1\u001b[0m\u001b[0;34m]\u001b[0m\u001b[0;34m)\u001b[0m\u001b[0;34m\u001b[0m\u001b[0m\n",
      "\u001b[0;31mAttributeError\u001b[0m: 'LogisticRegression' object has no attribute 'evaluate'"
     ]
    }
   ],
   "source": [
    "score=model.evaluate(x_test,y_test,verbose=0)\n",
    "print('Test loss:', score[0])\n",
    "print('Test accuracy:', score[1])"
   ]
  }
 ],
 "metadata": {
  "kernelspec": {
   "display_name": "Python 3",
   "language": "python",
   "name": "python3"
  },
  "language_info": {
   "codemirror_mode": {
    "name": "ipython",
    "version": 3
   },
   "file_extension": ".py",
   "mimetype": "text/x-python",
   "name": "python",
   "nbconvert_exporter": "python",
   "pygments_lexer": "ipython3",
   "version": "3.7.0"
  }
 },
 "nbformat": 4,
 "nbformat_minor": 2
}
